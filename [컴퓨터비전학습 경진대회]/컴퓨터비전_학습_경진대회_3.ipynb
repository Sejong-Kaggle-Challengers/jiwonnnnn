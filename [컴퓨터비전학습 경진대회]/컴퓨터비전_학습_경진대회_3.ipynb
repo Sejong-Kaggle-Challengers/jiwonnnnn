{
  "nbformat": 4,
  "nbformat_minor": 0,
  "metadata": {
    "colab": {
      "name": "컴퓨터비전_학습_경진대회_3.ipynb",
      "provenance": [],
      "collapsed_sections": []
    },
    "kernelspec": {
      "display_name": "Python 3",
      "name": "python3"
    },
    "accelerator": "GPU"
  },
  "cells": [
    {
      "cell_type": "code",
      "metadata": {
        "colab": {
          "base_uri": "https://localhost:8080/"
        },
        "id": "NuI30DOo3vUg",
        "outputId": "2b42bb68-def4-46e4-e65d-a083fbc20436"
      },
      "source": [
        "from google.colab import drive\n",
        "drive.mount('/content/drive')"
      ],
      "execution_count": 1,
      "outputs": [
        {
          "output_type": "stream",
          "text": [
            "Mounted at /content/drive\n"
          ],
          "name": "stdout"
        }
      ]
    },
    {
      "cell_type": "code",
      "metadata": {
        "id": "RZJPAsyjpXzv",
        "colab": {
          "base_uri": "https://localhost:8080/"
        },
        "outputId": "d6f3154f-fc64-46e0-996b-eb81a1e814fa"
      },
      "source": [
        "!unzip '/content/drive/MyDrive/월간데이터7/data.zip'"
      ],
      "execution_count": 2,
      "outputs": [
        {
          "output_type": "stream",
          "text": [
            "Archive:  /content/drive/MyDrive/월간데이터7/data.zip\n",
            "  inflating: submission.csv          \n",
            "  inflating: test.csv                \n",
            "  inflating: train.csv               \n"
          ],
          "name": "stdout"
        }
      ]
    },
    {
      "cell_type": "code",
      "metadata": {
        "id": "mwg-0pJxdeaj"
      },
      "source": [
        "import tensorflow as tf\r\n",
        "import numpy as np\r\n",
        "import pandas as pd\r\n",
        "import os\r\n",
        "from tensorflow.keras.optimizers import RMSprop\r\n",
        "from tensorflow.keras.models import Sequential\r\n",
        "from tensorflow.keras.layers import *\r\n",
        "from tensorflow.keras.layers import Dense, Dropout, Flatten\r\n",
        "from tensorflow.keras.models import Model\r\n",
        "from tensorflow.keras import optimizers\r\n",
        "import cv2\r\n",
        "\r\n",
        "import gc\r\n",
        "from keras import backend as bek"
      ],
      "execution_count": 3,
      "outputs": []
    },
    {
      "cell_type": "code",
      "metadata": {
        "id": "_CmpIZ3dd39s"
      },
      "source": [
        "train = pd.read_csv('train.csv')\r\n",
        "test = pd.read_csv('test.csv')\r\n",
        "submission = pd.read_csv('submission.csv')"
      ],
      "execution_count": 4,
      "outputs": []
    },
    {
      "cell_type": "code",
      "metadata": {
        "id": "tyuyqYjoeBXy"
      },
      "source": [
        "x_train = train.drop(['id', 'digit', 'letter'], 1).to_numpy()\r\n",
        "x_train = x_train.reshape(-1,28,28,1)\r\n",
        "x_train = x_train/255\r\n",
        "\r\n",
        "y = train['digit']\r\n",
        "y_train = np.zeros((len(y), len(y.unique()))) # (2048,10)\r\n",
        "\r\n",
        "\r\n",
        "#keras의 to_categorical 함수를 사용해서 바로 one-hot encoding 가능하다.\r\n",
        "\r\n",
        "for i, digit in enumerate(y):\r\n",
        "    y_train[i, digit] = 1 #one-hot-encoding을 해주는 건가\r\n",
        "\r\n"
      ],
      "execution_count": 5,
      "outputs": []
    },
    {
      "cell_type": "markdown",
      "metadata": {
        "id": "Yg4DVZbElK4b"
      },
      "source": [
        "데이터 증가시키기 ==>  image augmentation"
      ]
    },
    {
      "cell_type": "markdown",
      "metadata": {
        "id": "6XhSDPNzisb9"
      },
      "source": [
        "keras \r\n",
        "\r\n",
        "model.complie() \r\n",
        "\r\n",
        ": http://blog.naver.com/PostView.nhn?blogId=shwotjd14&logNo=221458224334&categoryNo=0&parentCategoryNo=0&viewDate=&currentPage=1&postListTopCurrentPage=1&from=postView\r\n",
        "\r\n",
        "models.Model()\r\n",
        "\r\n",
        ": https://frhyme.github.io/machine-learning/a_model_in_keras/\r\n",
        "\r\n",
        ": 케라스에서 모델 설계를 할 때 보통은 Sequential()을 사용하는데, 단순히 이전 layer의 output이 다음 layer의 input으로 들어가는 선형적인 경우에 편리 -> densenet()같이 선형적 흐름이 아닌 모델 설계는 사용 못 함\r\n",
        "multi input, multi output 지원함\r\n",
        "\r\n",
        "*지금 코드에서는 선형적,, Sequential 사용해도 상관 없는 듯\r\n",
        "\r\n"
      ]
    },
    {
      "cell_type": "code",
      "metadata": {
        "id": "Xfib4x_deNau"
      },
      "source": [
        "from tensorflow.keras.callbacks import LearningRateScheduler, EarlyStopping\r\n",
        "\r\n",
        "def create_model(x_train):\r\n",
        "\r\n",
        "    inputs = tf.keras.Input(x_train.shape[1:])\r\n",
        "\r\n",
        "    bn = tf.keras.layers.BatchNormalization()(inputs)\r\n",
        "    conv = tf.keras.layers.Conv2D(32, kernel_size=5, strides=1, padding='same', activation='relu')(bn)\r\n",
        "    bn = tf.keras.layers.BatchNormalization()(conv)\r\n",
        "    conv = tf.keras.layers.Conv2D(64, kernel_size=5, strides=1, padding='same', activation='relu')(bn)\r\n",
        "    pool = tf.keras.layers.MaxPooling2D((2, 2))(conv)\r\n",
        "\r\n",
        "    bn = tf.keras.layers.BatchNormalization()(pool)\r\n",
        "    conv = tf.keras.layers.Conv2D(128, kernel_size=2, strides=1, padding='same', activation='relu')(bn)\r\n",
        "    bn = tf.keras.layers.BatchNormalization()(conv)\r\n",
        "    conv = tf.keras.layers.Conv2D(256, kernel_size=2, strides=1, padding='same', activation='relu')(bn)\r\n",
        "    pool = tf.keras.layers.MaxPooling2D((2, 2))(conv)\r\n",
        "\r\n",
        "    flatten = tf.keras.layers.Flatten()(pool)\r\n",
        "\r\n",
        "    den = tf.keras.layers.Dense(1024, activation='relu')(flatten)\r\n",
        "    drop = tf.keras.layers.Dropout(0.2)(den)\r\n",
        "    out = tf.keras.layers.Dense(10, activation='softmax')(drop)\r\n",
        "\r\n",
        "    model = tf.keras.models.Model(inputs = inputs, outputs=out) # input이랑 output parameter로 넣어주면 모델 인스턴스화\r\n",
        "\r\n",
        "    return model\r\n",
        "\r\n",
        "\r\n",
        "\r\n",
        "\r\n",
        "\r\n"
      ],
      "execution_count": 6,
      "outputs": []
    },
    {
      "cell_type": "code",
      "metadata": {
        "colab": {
          "base_uri": "https://localhost:8080/"
        },
        "id": "DS14IPvikzlJ",
        "outputId": "55af1b61-ccbb-498c-aef8-a776938f6f73"
      },
      "source": [
        "model = create_model(x_train)\r\n",
        "model.compile(loss='categorical_crossentropy', optimizer='SGD', metrics=['accuracy'])\r\n",
        "\r\n",
        "model.fit(x_train, y_train, epochs=50)"
      ],
      "execution_count": 7,
      "outputs": [
        {
          "output_type": "stream",
          "text": [
            "Epoch 1/50\n",
            "64/64 [==============================] - 8s 8ms/step - loss: 3.0669 - accuracy: 0.1745\n",
            "Epoch 2/50\n",
            "64/64 [==============================] - 0s 7ms/step - loss: 1.5233 - accuracy: 0.4738\n",
            "Epoch 3/50\n",
            "64/64 [==============================] - 0s 7ms/step - loss: 1.1564 - accuracy: 0.5955\n",
            "Epoch 4/50\n",
            "64/64 [==============================] - 0s 7ms/step - loss: 0.9685 - accuracy: 0.6631\n",
            "Epoch 5/50\n",
            "64/64 [==============================] - 0s 7ms/step - loss: 0.7098 - accuracy: 0.7632\n",
            "Epoch 6/50\n",
            "64/64 [==============================] - 0s 7ms/step - loss: 0.6533 - accuracy: 0.7690\n",
            "Epoch 7/50\n",
            "64/64 [==============================] - 0s 7ms/step - loss: 0.4856 - accuracy: 0.8440\n",
            "Epoch 8/50\n",
            "64/64 [==============================] - 0s 7ms/step - loss: 0.3973 - accuracy: 0.8663\n",
            "Epoch 9/50\n",
            "64/64 [==============================] - 0s 7ms/step - loss: 0.2651 - accuracy: 0.9232\n",
            "Epoch 10/50\n",
            "64/64 [==============================] - 0s 7ms/step - loss: 0.1909 - accuracy: 0.9511\n",
            "Epoch 11/50\n",
            "64/64 [==============================] - 0s 7ms/step - loss: 0.1567 - accuracy: 0.9683\n",
            "Epoch 12/50\n",
            "64/64 [==============================] - 0s 7ms/step - loss: 0.1235 - accuracy: 0.9743\n",
            "Epoch 13/50\n",
            "64/64 [==============================] - 0s 7ms/step - loss: 0.0744 - accuracy: 0.9926\n",
            "Epoch 14/50\n",
            "64/64 [==============================] - 0s 7ms/step - loss: 0.0541 - accuracy: 0.9964\n",
            "Epoch 15/50\n",
            "64/64 [==============================] - 0s 7ms/step - loss: 0.0501 - accuracy: 0.9976\n",
            "Epoch 16/50\n",
            "64/64 [==============================] - 0s 7ms/step - loss: 0.0407 - accuracy: 0.9977\n",
            "Epoch 17/50\n",
            "64/64 [==============================] - 0s 7ms/step - loss: 0.0332 - accuracy: 0.9995\n",
            "Epoch 18/50\n",
            "64/64 [==============================] - 0s 7ms/step - loss: 0.0250 - accuracy: 0.9995\n",
            "Epoch 19/50\n",
            "64/64 [==============================] - 0s 7ms/step - loss: 0.0305 - accuracy: 0.9976\n",
            "Epoch 20/50\n",
            "64/64 [==============================] - 0s 7ms/step - loss: 0.0213 - accuracy: 0.9999\n",
            "Epoch 21/50\n",
            "64/64 [==============================] - 0s 7ms/step - loss: 0.0199 - accuracy: 0.9997\n",
            "Epoch 22/50\n",
            "64/64 [==============================] - 0s 7ms/step - loss: 0.0224 - accuracy: 1.0000\n",
            "Epoch 23/50\n",
            "64/64 [==============================] - 0s 7ms/step - loss: 0.0148 - accuracy: 1.0000\n",
            "Epoch 24/50\n",
            "64/64 [==============================] - 0s 7ms/step - loss: 0.0149 - accuracy: 0.9999\n",
            "Epoch 25/50\n",
            "64/64 [==============================] - 0s 7ms/step - loss: 0.0122 - accuracy: 1.0000\n",
            "Epoch 26/50\n",
            "64/64 [==============================] - 0s 7ms/step - loss: 0.0113 - accuracy: 1.0000\n",
            "Epoch 27/50\n",
            "64/64 [==============================] - 0s 7ms/step - loss: 0.0103 - accuracy: 1.0000\n",
            "Epoch 28/50\n",
            "64/64 [==============================] - 0s 7ms/step - loss: 0.0098 - accuracy: 1.0000\n",
            "Epoch 29/50\n",
            "64/64 [==============================] - 0s 7ms/step - loss: 0.0090 - accuracy: 1.0000\n",
            "Epoch 30/50\n",
            "64/64 [==============================] - 0s 7ms/step - loss: 0.0104 - accuracy: 1.0000\n",
            "Epoch 31/50\n",
            "64/64 [==============================] - 0s 7ms/step - loss: 0.0082 - accuracy: 1.0000\n",
            "Epoch 32/50\n",
            "64/64 [==============================] - 0s 7ms/step - loss: 0.0085 - accuracy: 1.0000\n",
            "Epoch 33/50\n",
            "64/64 [==============================] - 0s 7ms/step - loss: 0.0084 - accuracy: 1.0000\n",
            "Epoch 34/50\n",
            "64/64 [==============================] - 0s 7ms/step - loss: 0.0088 - accuracy: 0.9994\n",
            "Epoch 35/50\n",
            "64/64 [==============================] - 0s 7ms/step - loss: 0.0065 - accuracy: 1.0000\n",
            "Epoch 36/50\n",
            "64/64 [==============================] - 0s 7ms/step - loss: 0.0078 - accuracy: 1.0000\n",
            "Epoch 37/50\n",
            "64/64 [==============================] - 0s 7ms/step - loss: 0.0064 - accuracy: 1.0000\n",
            "Epoch 38/50\n",
            "64/64 [==============================] - 0s 7ms/step - loss: 0.0064 - accuracy: 1.0000\n",
            "Epoch 39/50\n",
            "64/64 [==============================] - 0s 7ms/step - loss: 0.0058 - accuracy: 1.0000\n",
            "Epoch 40/50\n",
            "64/64 [==============================] - 0s 7ms/step - loss: 0.0059 - accuracy: 1.0000\n",
            "Epoch 41/50\n",
            "64/64 [==============================] - 0s 7ms/step - loss: 0.0053 - accuracy: 1.0000\n",
            "Epoch 42/50\n",
            "64/64 [==============================] - 0s 7ms/step - loss: 0.0048 - accuracy: 1.0000\n",
            "Epoch 43/50\n",
            "64/64 [==============================] - 0s 7ms/step - loss: 0.0058 - accuracy: 1.0000\n",
            "Epoch 44/50\n",
            "64/64 [==============================] - 0s 7ms/step - loss: 0.0050 - accuracy: 1.0000\n",
            "Epoch 45/50\n",
            "64/64 [==============================] - 0s 7ms/step - loss: 0.0046 - accuracy: 1.0000\n",
            "Epoch 46/50\n",
            "64/64 [==============================] - 0s 7ms/step - loss: 0.0049 - accuracy: 1.0000\n",
            "Epoch 47/50\n",
            "64/64 [==============================] - 0s 7ms/step - loss: 0.0042 - accuracy: 1.0000\n",
            "Epoch 48/50\n",
            "64/64 [==============================] - 0s 7ms/step - loss: 0.0041 - accuracy: 1.0000\n",
            "Epoch 49/50\n",
            "64/64 [==============================] - 0s 7ms/step - loss: 0.0038 - accuracy: 1.0000\n",
            "Epoch 50/50\n",
            "64/64 [==============================] - 0s 7ms/step - loss: 0.0042 - accuracy: 1.0000\n"
          ],
          "name": "stdout"
        },
        {
          "output_type": "execute_result",
          "data": {
            "text/plain": [
              "<tensorflow.python.keras.callbacks.History at 0x7f3fd7397ac8>"
            ]
          },
          "metadata": {
            "tags": []
          },
          "execution_count": 7
        }
      ]
    },
    {
      "cell_type": "code",
      "metadata": {
        "colab": {
          "base_uri": "https://localhost:8080/",
          "height": 204
        },
        "id": "UWvVJG5UqJqi",
        "outputId": "8c971091-f177-4595-e85f-c75336377cf2"
      },
      "source": [
        "x_test = test.drop(['id', 'letter'],1).to_numpy()\r\n",
        "x_test = x_test.reshape(-1,28,28,1)\r\n",
        "x_test = x_test/255\r\n",
        "\r\n",
        "\r\n",
        "submission['digit'] = np.argmax(model.predict(x_test), axis=1)\r\n",
        "submission.head()"
      ],
      "execution_count": 8,
      "outputs": [
        {
          "output_type": "execute_result",
          "data": {
            "text/html": [
              "<div>\n",
              "<style scoped>\n",
              "    .dataframe tbody tr th:only-of-type {\n",
              "        vertical-align: middle;\n",
              "    }\n",
              "\n",
              "    .dataframe tbody tr th {\n",
              "        vertical-align: top;\n",
              "    }\n",
              "\n",
              "    .dataframe thead th {\n",
              "        text-align: right;\n",
              "    }\n",
              "</style>\n",
              "<table border=\"1\" class=\"dataframe\">\n",
              "  <thead>\n",
              "    <tr style=\"text-align: right;\">\n",
              "      <th></th>\n",
              "      <th>id</th>\n",
              "      <th>digit</th>\n",
              "    </tr>\n",
              "  </thead>\n",
              "  <tbody>\n",
              "    <tr>\n",
              "      <th>0</th>\n",
              "      <td>2049</td>\n",
              "      <td>6</td>\n",
              "    </tr>\n",
              "    <tr>\n",
              "      <th>1</th>\n",
              "      <td>2050</td>\n",
              "      <td>9</td>\n",
              "    </tr>\n",
              "    <tr>\n",
              "      <th>2</th>\n",
              "      <td>2051</td>\n",
              "      <td>1</td>\n",
              "    </tr>\n",
              "    <tr>\n",
              "      <th>3</th>\n",
              "      <td>2052</td>\n",
              "      <td>0</td>\n",
              "    </tr>\n",
              "    <tr>\n",
              "      <th>4</th>\n",
              "      <td>2053</td>\n",
              "      <td>3</td>\n",
              "    </tr>\n",
              "  </tbody>\n",
              "</table>\n",
              "</div>"
            ],
            "text/plain": [
              "     id  digit\n",
              "0  2049      6\n",
              "1  2050      9\n",
              "2  2051      1\n",
              "3  2052      0\n",
              "4  2053      3"
            ]
          },
          "metadata": {
            "tags": []
          },
          "execution_count": 8
        }
      ]
    },
    {
      "cell_type": "code",
      "metadata": {
        "id": "OILG5ZDEr6bD"
      },
      "source": [
        "submission.to_csv('cv_ver3.csv',index=False)\r\n",
        "#0.81372  모델 conv2d()이거만 바꿨는데 이케 됐따?"
      ],
      "execution_count": 9,
      "outputs": []
    },
    {
      "cell_type": "code",
      "metadata": {
        "id": "fx-mFVNrsOQp"
      },
      "source": [
        ""
      ],
      "execution_count": null,
      "outputs": []
    }
  ]
}