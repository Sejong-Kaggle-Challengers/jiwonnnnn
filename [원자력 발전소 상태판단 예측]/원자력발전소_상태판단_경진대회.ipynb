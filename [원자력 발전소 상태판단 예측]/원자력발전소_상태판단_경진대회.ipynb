{
  "nbformat": 4,
  "nbformat_minor": 0,
  "metadata": {
    "colab": {
      "name": "원자력발전소 상태판단 경진대회.ipynb",
      "provenance": []
    },
    "kernelspec": {
      "name": "python3",
      "display_name": "Python 3"
    },
    "accelerator": "GPU"
  },
  "cells": [
    {
      "cell_type": "code",
      "metadata": {
        "id": "6LeoLGI5Fbbd"
      },
      "source": [
        "import os\r\n",
        "import pandas as pd \r\n",
        "import numpy as np\r\n",
        "import multiprocessing \r\n",
        "from multiprocessing import Pool \r\n",
        "from functools import partial # 함수가 받는 인자들 중 몇개를 고정 시켜서 새롭게 파생된 함수를 형성하는 역할\r\n",
        "from data_loader_v2 import data_loader_v2 # 자체적으로 만든 data loader version 2.0 ([데이콘 15회 대회] 데이터 설명 및 데이터 불러오기 영상 참조)\r\n",
        "from tqdm import tqdm\r\n",
        "from sklearn.ensemble import RandomForestClassifier\r\n",
        "import joblib # 모델을 저장하고 불러오는 역할"
      ],
      "execution_count": 7,
      "outputs": []
    },
    {
      "cell_type": "code",
      "metadata": {
        "colab": {
          "base_uri": "https://localhost:8080/"
        },
        "id": "vTD_EHhEK4JI",
        "outputId": "452ba56d-30d5-4b7a-b197-4f90ca0a1391"
      },
      "source": [
        "path = os.getcwd() #현재 directory 구하기\r\n",
        "\r\n",
        "print(path)"
      ],
      "execution_count": 8,
      "outputs": [
        {
          "output_type": "stream",
          "text": [
            "/content\n"
          ],
          "name": "stdout"
        }
      ]
    },
    {
      "cell_type": "code",
      "metadata": {
        "id": "FaiLyXW-JUVT"
      },
      "source": [
        "train_folder = '/content/drive/MyDrive/원자력/train/'\r\n",
        "test_folder = '/content/drive/MyDrive/원자력/test/'\r\n",
        "train_label_path = '/content/drive/MyDrive/원자력/train_label.csv'"
      ],
      "execution_count": 9,
      "outputs": []
    },
    {
      "cell_type": "code",
      "metadata": {
        "id": "OZaEOhBAKkWm"
      },
      "source": [
        "train_list = os.listdir(train_folder)\r\n",
        "test_list = os.listdir(test_folder)\r\n",
        "train_label = pd.read_csv(train_label_path, index_col=0)"
      ],
      "execution_count": 10,
      "outputs": []
    },
    {
      "cell_type": "code",
      "metadata": {
        "id": "ott2Cmj7KxDj"
      },
      "source": [
        "# 모든 csv 파일의 상태_B로 변화는 시점이 같다라고 가정\r\n",
        "# 하지만, 개별 csv파일의 상태_B로 변화는 시점은 상이할 수 있음\r\n",
        "def data_loader_all_v2(func, files, folder='', train_label=None, event_time=10, nrows=60):   \r\n",
        "    func_fixed = partial(func, folder=folder, train_label=train_label, event_time=event_time, nrows=nrows)     \r\n",
        "    if __name__ == '__main__':  ## 윈도우에서 multiprocessing 할 때 꼭 써줘야 하는 부분.\r\n",
        "        pool = Pool(processes=multiprocessing.cpu_count())  ## 여러 입력값에 걸쳐 함수의 실행을 병렬 처리, 입력 데이터를 프로세스에 분산시키는 편리한 방법 제공\r\n",
        "        # 데이터 병렬 처리.\r\n",
        "        df_list = list(pool.imap(func_fixed, files))  ## imap : slow, low memory cost\r\n",
        "        ## map : high memory cost, fast\r\n",
        "        pool.close()\r\n",
        "        pool.join()        \r\n",
        "    combined_df = pd.concat(df_list)    \r\n",
        "    return combined_df"
      ],
      "execution_count": 11,
      "outputs": []
    },
    {
      "cell_type": "code",
      "metadata": {
        "id": "qQXi-rCy4GSf"
      },
      "source": [
        "train = data_loader_all_v2(data_loader_v2, train_list, folder=train_folder, train_label=train_label, event_time=10, nrows=60)\r\n",
        "test = data_loader_all_v2(data_loader_v2, test_list, folder=test_folder, train_label=None, event_time=20, nrows=60)\r\n",
        "\r\n",
        "y = train['label']\r\n",
        "train.drop('label',axis=1,inplace=True)"
      ],
      "execution_count": null,
      "outputs": []
    },
    {
      "cell_type": "code",
      "metadata": {
        "id": "zR29Qzgq8f3d"
      },
      "source": [
        "parms = {\r\n",
        "    'learning_rate' : 0.06,\r\n",
        "    'num_leaves' : 400,\r\n",
        "    'n_estimators' : 300,\r\n",
        "    'max_depth': -1,\r\n",
        "    'min_child_weight' : 3, \r\n",
        "    'subsample' : 0.8,\r\n",
        "    'colsample_bytree' : 0.5,\r\n",
        "    'objective' : 'multiclass',\r\n",
        "    'n_jobs': -1\r\n",
        "}"
      ],
      "execution_count": null,
      "outputs": []
    },
    {
      "cell_type": "markdown",
      "metadata": {
        "id": "LkGjk-U4TNhv"
      },
      "source": [
        "LGBM parameter 소개\r\n",
        "\r\n",
        "https://nurilee.com/2020/04/03/lightgbm-definition-parameter-tuning/"
      ]
    },
    {
      "cell_type": "code",
      "metadata": {
        "id": "M5Krbp-LHJHs"
      },
      "source": [
        "# 4FOLD, 3SEED ENSEMBLE\r\n",
        "# 총 12개의 모델을 평균내어 예측한다\r\n",
        "\r\n",
        "from sklearn.model_selection import KFold\r\n",
        "import lightgbm\r\n",
        "lucky_seed=[4885,1992,1022]  #random seed를 이렇게 정한 기준이 있으까?_?\r\n",
        "\r\n",
        "for num,rs in enumerate(lucky_seed):\r\n",
        "\r\n",
        "    kfold = KFold(n_splits=4, random_state = rs, shuffle = True)\r\n",
        "\r\n",
        "    # dacon code\r\n",
        "    cv=np.zeros((train.shape[0],198))\r\n",
        "\r\n",
        "    for n, (train_idx, validation_idx) in enumerate(kfold.split(train)):\r\n",
        "\r\n",
        "        x_train, x_validation = train.iloc[train_idx], train.iloc[validation_idx]\r\n",
        "        y_train, y_validation = y.iloc[train_idx], y.iloc[validation_idx]\r\n",
        "\r\n",
        "        model = lightgbm.LGBMClassifier(**parms, random_state=rs)\r\n",
        "\r\n",
        "        model.fit(x_train, y_train, eval_set=[(x_validation, y_validation)], early_stopping_rounds= 30,\r\n",
        "                  verbose=100) \r\n",
        "        joblib.dump(model, '../2_Code_pred/%s_fold_model_%s.pkl'%(n,rs))\r\n",
        "\r\n",
        "        # CROSS-VALIDATION , EVALUATE CV\r\n",
        "        cv[validation_idx,:] = model.predict_proba(x_validation) #predict_proba : 각 클래스에 대한 확률\r\n",
        "        #출력은 항상 0과 1사이의 값"
      ],
      "execution_count": null,
      "outputs": []
    },
    {
      "cell_type": "code",
      "metadata": {
        "id": "oIAaEFb8HKGI"
      },
      "source": [
        "# MODEL LOAD & TEST PREDICT\r\n",
        "# 12 MODELS 평균 사용\r\n",
        "models = os.listdir('../2_Code_pred/')\r\n",
        "models_list = [x for x in models if x.endswith(\".pkl\")]\r\n",
        "assert len(models_list) ==12\r\n",
        "temp_predictions = np.zeros((test.shape[0],198))\r\n",
        "\r\n",
        "for m in models_list:\r\n",
        "    model = joblib.load('../2_Code_pred/'+m)\r\n",
        "    predict_proba = model.predict_proba(test)\r\n",
        "    temp_predictions += predict_proba/12"
      ],
      "execution_count": null,
      "outputs": []
    },
    {
      "cell_type": "code",
      "metadata": {
        "id": "FbN8jJHqTopl"
      },
      "source": [
        "# dacon code\r\n",
        "submission = pd.DataFrame(data=np.zeros((test.shape[0],198)))\r\n",
        "submission.index = test.index \r\n",
        "submission.index.name = 'id'\r\n",
        "submission+=temp_predictions\r\n",
        "\r\n",
        "submission = submission.sort_index()\r\n",
        "submission = submission.groupby('id').mean()\r\n",
        "submission.to_csv('submission.csv', index=True)"
      ],
      "execution_count": null,
      "outputs": []
    }
  ]
}
