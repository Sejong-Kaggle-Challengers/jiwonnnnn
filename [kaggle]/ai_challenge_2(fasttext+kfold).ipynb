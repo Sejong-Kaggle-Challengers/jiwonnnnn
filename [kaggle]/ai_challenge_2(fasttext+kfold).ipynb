{
  "nbformat": 4,
  "nbformat_minor": 0,
  "metadata": {
    "colab": {
      "name": "ai_challenge_2(fasttext+kfold).ipynb",
      "provenance": [],
      "collapsed_sections": []
    },
    "kernelspec": {
      "name": "python3",
      "display_name": "Python 3"
    }
  },
  "cells": [
    {
      "cell_type": "code",
      "metadata": {
        "colab": {
          "base_uri": "https://localhost:8080/"
        },
        "id": "oserWlp1isr3",
        "outputId": "53032550-8f0e-4ed8-98a3-de5cf59c17db"
      },
      "source": [
        "!pip uninstall kaggle\r\n",
        "!pip install --upgrade pip\r\n",
        "!pip install kaggle==1.5.6\r\n",
        "!mkdir -p ~/.kaggle\r\n",
        "!cp kaggle.json ~/.kaggle\r\n",
        "!ls -lha kaggle.json\r\n",
        "!chmod 600 ~/.kaggle/kaggle.json"
      ],
      "execution_count": 1,
      "outputs": [
        {
          "output_type": "stream",
          "text": [
            "Uninstalling kaggle-1.5.10:\n",
            "  Would remove:\n",
            "    /usr/local/bin/kaggle\n",
            "    /usr/local/lib/python3.7/dist-packages/kaggle-1.5.10.dist-info/*\n",
            "    /usr/local/lib/python3.7/dist-packages/kaggle/*\n",
            "Proceed (y/n)? y\n",
            "  Successfully uninstalled kaggle-1.5.10\n",
            "Collecting pip\n",
            "\u001b[?25l  Downloading https://files.pythonhosted.org/packages/fe/ef/60d7ba03b5c442309ef42e7d69959f73aacccd0d86008362a681c4698e83/pip-21.0.1-py3-none-any.whl (1.5MB)\n",
            "\u001b[K     |████████████████████████████████| 1.5MB 5.7MB/s \n",
            "\u001b[?25hInstalling collected packages: pip\n",
            "  Found existing installation: pip 19.3.1\n",
            "    Uninstalling pip-19.3.1:\n",
            "      Successfully uninstalled pip-19.3.1\n",
            "Successfully installed pip-21.0.1\n",
            "Collecting kaggle==1.5.6\n",
            "  Downloading kaggle-1.5.6.tar.gz (58 kB)\n",
            "\u001b[K     |████████████████████████████████| 58 kB 2.6 MB/s \n",
            "\u001b[?25hRequirement already satisfied: urllib3<1.25,>=1.21.1 in /usr/local/lib/python3.7/dist-packages (from kaggle==1.5.6) (1.24.3)\n",
            "Requirement already satisfied: six>=1.10 in /usr/local/lib/python3.7/dist-packages (from kaggle==1.5.6) (1.15.0)\n",
            "Requirement already satisfied: certifi in /usr/local/lib/python3.7/dist-packages (from kaggle==1.5.6) (2020.12.5)\n",
            "Requirement already satisfied: python-dateutil in /usr/local/lib/python3.7/dist-packages (from kaggle==1.5.6) (2.8.1)\n",
            "Requirement already satisfied: requests in /usr/local/lib/python3.7/dist-packages (from kaggle==1.5.6) (2.23.0)\n",
            "Requirement already satisfied: tqdm in /usr/local/lib/python3.7/dist-packages (from kaggle==1.5.6) (4.41.1)\n",
            "Requirement already satisfied: python-slugify in /usr/local/lib/python3.7/dist-packages (from kaggle==1.5.6) (4.0.1)\n",
            "Requirement already satisfied: text-unidecode>=1.3 in /usr/local/lib/python3.7/dist-packages (from python-slugify->kaggle==1.5.6) (1.3)\n",
            "Requirement already satisfied: idna<3,>=2.5 in /usr/local/lib/python3.7/dist-packages (from requests->kaggle==1.5.6) (2.10)\n",
            "Requirement already satisfied: chardet<4,>=3.0.2 in /usr/local/lib/python3.7/dist-packages (from requests->kaggle==1.5.6) (3.0.4)\n",
            "Building wheels for collected packages: kaggle\n",
            "  Building wheel for kaggle (setup.py) ... \u001b[?25l\u001b[?25hdone\n",
            "  Created wheel for kaggle: filename=kaggle-1.5.6-py3-none-any.whl size=72859 sha256=808e6f69d6ba6490e17e09fb53ae3bdee09626fdbee06a8ca481a3f7c6a5dc30\n",
            "  Stored in directory: /root/.cache/pip/wheels/aa/e7/e7/eb3c3d514c33294d77ddd5a856bdd58dc9c1fabbed59a02a2b\n",
            "Successfully built kaggle\n",
            "Installing collected packages: kaggle\n",
            "Successfully installed kaggle-1.5.6\n",
            "-rw-r--r-- 1 root root 65 Mar 17 06:25 kaggle.json\n"
          ],
          "name": "stdout"
        }
      ]
    },
    {
      "cell_type": "code",
      "metadata": {
        "colab": {
          "base_uri": "https://localhost:8080/"
        },
        "id": "VTBRa9wwi7wq",
        "outputId": "b5e4e117-4ef4-43ce-a674-12b231b8ee01"
      },
      "source": [
        "!kaggle competitions download -c sejong-ai-challenge-p2\r\n",
        "!unzip sejong-ai-challenge-p2.zip"
      ],
      "execution_count": 2,
      "outputs": [
        {
          "output_type": "stream",
          "text": [
            "Downloading sejong-ai-challenge-p2.zip to /content\n",
            " 57% 17.0M/29.8M [00:00<00:01, 12.0MB/s]\n",
            "100% 29.8M/29.8M [00:01<00:00, 31.0MB/s]\n"
          ],
          "name": "stdout"
        }
      ]
    },
    {
      "cell_type": "code",
      "metadata": {
        "colab": {
          "base_uri": "https://localhost:8080/"
        },
        "id": "Z5Yvap73wWyL",
        "outputId": "f70bdebf-eea6-4d48-c92c-e0c0fe6313b1"
      },
      "source": [
        "!pip install fasttext"
      ],
      "execution_count": 18,
      "outputs": [
        {
          "output_type": "stream",
          "text": [
            "Requirement already satisfied: fasttext in /usr/local/lib/python3.7/dist-packages (0.9.2)\n",
            "Requirement already satisfied: setuptools>=0.7.0 in /usr/local/lib/python3.7/dist-packages (from fasttext) (54.0.0)\n",
            "Requirement already satisfied: pybind11>=2.2 in /usr/local/lib/python3.7/dist-packages (from fasttext) (2.6.2)\n",
            "Requirement already satisfied: numpy in /usr/local/lib/python3.7/dist-packages (from fasttext) (1.19.5)\n"
          ],
          "name": "stdout"
        }
      ]
    },
    {
      "cell_type": "code",
      "metadata": {
        "id": "_vSekMSvjUOl",
        "colab": {
          "base_uri": "https://localhost:8080/",
          "height": 419
        },
        "outputId": "65bc20dc-33e4-4ef6-ae9a-4fc6eae19c10"
      },
      "source": [
        "import pandas as pd\r\n",
        "import numpy as np\r\n",
        "from sklearn.utils import shuffle\r\n",
        "\r\n",
        "train = pd.read_csv('train.csv')\r\n",
        "test = pd.read_csv('test.csv')\r\n",
        "submission = pd.read_csv('sample_submission.csv')\r\n",
        "\r\n",
        "train = shuffle(train, random_state=0)\r\n",
        "train['Text'] = train['Text'].astype(str)\r\n",
        "test['Text'] = test['Text'].astype(str)\r\n",
        "\r\n",
        "train"
      ],
      "execution_count": 1,
      "outputs": [
        {
          "output_type": "execute_result",
          "data": {
            "text/html": [
              "<div>\n",
              "<style scoped>\n",
              "    .dataframe tbody tr th:only-of-type {\n",
              "        vertical-align: middle;\n",
              "    }\n",
              "\n",
              "    .dataframe tbody tr th {\n",
              "        vertical-align: top;\n",
              "    }\n",
              "\n",
              "    .dataframe thead th {\n",
              "        text-align: right;\n",
              "    }\n",
              "</style>\n",
              "<table border=\"1\" class=\"dataframe\">\n",
              "  <thead>\n",
              "    <tr style=\"text-align: right;\">\n",
              "      <th></th>\n",
              "      <th>Unnamed: 0</th>\n",
              "      <th>Text</th>\n",
              "      <th>Label</th>\n",
              "    </tr>\n",
              "  </thead>\n",
              "  <tbody>\n",
              "    <tr>\n",
              "      <th>71019</th>\n",
              "      <td>64872</td>\n",
              "      <td>Good product.  It has a slightly plastic feel ...</td>\n",
              "      <td>1</td>\n",
              "    </tr>\n",
              "    <tr>\n",
              "      <th>151264</th>\n",
              "      <td>207111</td>\n",
              "      <td>it worked on my phone but it didn't come with ...</td>\n",
              "      <td>0</td>\n",
              "    </tr>\n",
              "    <tr>\n",
              "      <th>126784</th>\n",
              "      <td>77813</td>\n",
              "      <td>We use this for my teenage daughters phone and...</td>\n",
              "      <td>1</td>\n",
              "    </tr>\n",
              "    <tr>\n",
              "      <th>98978</th>\n",
              "      <td>200321</td>\n",
              "      <td>Great !!!</td>\n",
              "      <td>1</td>\n",
              "    </tr>\n",
              "    <tr>\n",
              "      <th>58578</th>\n",
              "      <td>148107</td>\n",
              "      <td>I love collecting phone cases because I like t...</td>\n",
              "      <td>1</td>\n",
              "    </tr>\n",
              "    <tr>\n",
              "      <th>...</th>\n",
              "      <td>...</td>\n",
              "      <td>...</td>\n",
              "      <td>...</td>\n",
              "    </tr>\n",
              "    <tr>\n",
              "      <th>152315</th>\n",
              "      <td>260160</td>\n",
              "      <td>Did not like.</td>\n",
              "      <td>0</td>\n",
              "    </tr>\n",
              "    <tr>\n",
              "      <th>176963</th>\n",
              "      <td>49409</td>\n",
              "      <td>I like the overall design of this case a lot, ...</td>\n",
              "      <td>0</td>\n",
              "    </tr>\n",
              "    <tr>\n",
              "      <th>117952</th>\n",
              "      <td>10677</td>\n",
              "      <td>Breaks easily. Mine didn't even last a week</td>\n",
              "      <td>0</td>\n",
              "    </tr>\n",
              "    <tr>\n",
              "      <th>173685</th>\n",
              "      <td>167021</td>\n",
              "      <td>I had the phone for a month and absolutely lov...</td>\n",
              "      <td>0</td>\n",
              "    </tr>\n",
              "    <tr>\n",
              "      <th>43567</th>\n",
              "      <td>153039</td>\n",
              "      <td>This is one of my favorite cases.  I also enjo...</td>\n",
              "      <td>0</td>\n",
              "    </tr>\n",
              "  </tbody>\n",
              "</table>\n",
              "<p>194140 rows × 3 columns</p>\n",
              "</div>"
            ],
            "text/plain": [
              "        Unnamed: 0                                               Text  Label\n",
              "71019        64872  Good product.  It has a slightly plastic feel ...      1\n",
              "151264      207111  it worked on my phone but it didn't come with ...      0\n",
              "126784       77813  We use this for my teenage daughters phone and...      1\n",
              "98978       200321                                          Great !!!      1\n",
              "58578       148107  I love collecting phone cases because I like t...      1\n",
              "...            ...                                                ...    ...\n",
              "152315      260160                                      Did not like.      0\n",
              "176963       49409  I like the overall design of this case a lot, ...      0\n",
              "117952       10677        Breaks easily. Mine didn't even last a week      0\n",
              "173685      167021  I had the phone for a month and absolutely lov...      0\n",
              "43567       153039  This is one of my favorite cases.  I also enjo...      0\n",
              "\n",
              "[194140 rows x 3 columns]"
            ]
          },
          "metadata": {
            "tags": []
          },
          "execution_count": 1
        }
      ]
    },
    {
      "cell_type": "code",
      "metadata": {
        "id": "mBwqVE-6L6da"
      },
      "source": [
        "train['label_ft'] = '__label__' + train['Label'].astype(str)"
      ],
      "execution_count": 2,
      "outputs": []
    },
    {
      "cell_type": "code",
      "metadata": {
        "colab": {
          "base_uri": "https://localhost:8080/",
          "height": 419
        },
        "id": "4BV62AiyMB9i",
        "outputId": "75d392fb-4c91-4dc4-c05a-303b114e3c6f"
      },
      "source": [
        "train"
      ],
      "execution_count": 3,
      "outputs": [
        {
          "output_type": "execute_result",
          "data": {
            "text/html": [
              "<div>\n",
              "<style scoped>\n",
              "    .dataframe tbody tr th:only-of-type {\n",
              "        vertical-align: middle;\n",
              "    }\n",
              "\n",
              "    .dataframe tbody tr th {\n",
              "        vertical-align: top;\n",
              "    }\n",
              "\n",
              "    .dataframe thead th {\n",
              "        text-align: right;\n",
              "    }\n",
              "</style>\n",
              "<table border=\"1\" class=\"dataframe\">\n",
              "  <thead>\n",
              "    <tr style=\"text-align: right;\">\n",
              "      <th></th>\n",
              "      <th>Unnamed: 0</th>\n",
              "      <th>Text</th>\n",
              "      <th>Label</th>\n",
              "      <th>label_ft</th>\n",
              "    </tr>\n",
              "  </thead>\n",
              "  <tbody>\n",
              "    <tr>\n",
              "      <th>71019</th>\n",
              "      <td>64872</td>\n",
              "      <td>Good product.  It has a slightly plastic feel ...</td>\n",
              "      <td>1</td>\n",
              "      <td>__label__1</td>\n",
              "    </tr>\n",
              "    <tr>\n",
              "      <th>151264</th>\n",
              "      <td>207111</td>\n",
              "      <td>it worked on my phone but it didn't come with ...</td>\n",
              "      <td>0</td>\n",
              "      <td>__label__0</td>\n",
              "    </tr>\n",
              "    <tr>\n",
              "      <th>126784</th>\n",
              "      <td>77813</td>\n",
              "      <td>We use this for my teenage daughters phone and...</td>\n",
              "      <td>1</td>\n",
              "      <td>__label__1</td>\n",
              "    </tr>\n",
              "    <tr>\n",
              "      <th>98978</th>\n",
              "      <td>200321</td>\n",
              "      <td>Great !!!</td>\n",
              "      <td>1</td>\n",
              "      <td>__label__1</td>\n",
              "    </tr>\n",
              "    <tr>\n",
              "      <th>58578</th>\n",
              "      <td>148107</td>\n",
              "      <td>I love collecting phone cases because I like t...</td>\n",
              "      <td>1</td>\n",
              "      <td>__label__1</td>\n",
              "    </tr>\n",
              "    <tr>\n",
              "      <th>...</th>\n",
              "      <td>...</td>\n",
              "      <td>...</td>\n",
              "      <td>...</td>\n",
              "      <td>...</td>\n",
              "    </tr>\n",
              "    <tr>\n",
              "      <th>152315</th>\n",
              "      <td>260160</td>\n",
              "      <td>Did not like.</td>\n",
              "      <td>0</td>\n",
              "      <td>__label__0</td>\n",
              "    </tr>\n",
              "    <tr>\n",
              "      <th>176963</th>\n",
              "      <td>49409</td>\n",
              "      <td>I like the overall design of this case a lot, ...</td>\n",
              "      <td>0</td>\n",
              "      <td>__label__0</td>\n",
              "    </tr>\n",
              "    <tr>\n",
              "      <th>117952</th>\n",
              "      <td>10677</td>\n",
              "      <td>Breaks easily. Mine didn't even last a week</td>\n",
              "      <td>0</td>\n",
              "      <td>__label__0</td>\n",
              "    </tr>\n",
              "    <tr>\n",
              "      <th>173685</th>\n",
              "      <td>167021</td>\n",
              "      <td>I had the phone for a month and absolutely lov...</td>\n",
              "      <td>0</td>\n",
              "      <td>__label__0</td>\n",
              "    </tr>\n",
              "    <tr>\n",
              "      <th>43567</th>\n",
              "      <td>153039</td>\n",
              "      <td>This is one of my favorite cases.  I also enjo...</td>\n",
              "      <td>0</td>\n",
              "      <td>__label__0</td>\n",
              "    </tr>\n",
              "  </tbody>\n",
              "</table>\n",
              "<p>194140 rows × 4 columns</p>\n",
              "</div>"
            ],
            "text/plain": [
              "        Unnamed: 0  ...    label_ft\n",
              "71019        64872  ...  __label__1\n",
              "151264      207111  ...  __label__0\n",
              "126784       77813  ...  __label__1\n",
              "98978       200321  ...  __label__1\n",
              "58578       148107  ...  __label__1\n",
              "...            ...  ...         ...\n",
              "152315      260160  ...  __label__0\n",
              "176963       49409  ...  __label__0\n",
              "117952       10677  ...  __label__0\n",
              "173685      167021  ...  __label__0\n",
              "43567       153039  ...  __label__0\n",
              "\n",
              "[194140 rows x 4 columns]"
            ]
          },
          "metadata": {
            "tags": []
          },
          "execution_count": 3
        }
      ]
    },
    {
      "cell_type": "code",
      "metadata": {
        "colab": {
          "base_uri": "https://localhost:8080/"
        },
        "id": "atYTzm0A--Qm",
        "outputId": "85ef377c-f963-473a-98a6-eb0dbe537f42"
      },
      "source": [
        "for i in test.index:\r\n",
        "    test['Text'][i] =test['Text'][i].replace('\\n', '')\r\n",
        "\r\n",
        "for i in train.index:\r\n",
        "    train['Text'][i] = train['Text'][i].replace('\\n', '')"
      ],
      "execution_count": 4,
      "outputs": [
        {
          "output_type": "stream",
          "text": [
            "/usr/local/lib/python3.7/dist-packages/ipykernel_launcher.py:2: SettingWithCopyWarning: \n",
            "A value is trying to be set on a copy of a slice from a DataFrame\n",
            "\n",
            "See the caveats in the documentation: https://pandas.pydata.org/pandas-docs/stable/user_guide/indexing.html#returning-a-view-versus-a-copy\n",
            "  \n",
            "/usr/local/lib/python3.7/dist-packages/ipykernel_launcher.py:5: SettingWithCopyWarning: \n",
            "A value is trying to be set on a copy of a slice from a DataFrame\n",
            "\n",
            "See the caveats in the documentation: https://pandas.pydata.org/pandas-docs/stable/user_guide/indexing.html#returning-a-view-versus-a-copy\n",
            "  \"\"\"\n"
          ],
          "name": "stderr"
        }
      ]
    },
    {
      "cell_type": "code",
      "metadata": {
        "id": "JQW_Wlp8AX6d"
      },
      "source": [
        "from sklearn.model_selection import StratifiedKFold\r\n",
        "from sklearn.metrics import f1_score\r\n",
        "import fasttext\r\n",
        "models = []\r\n",
        "train_scores = []\r\n",
        "pred_list= []\r\n",
        "val_scores = []\r\n",
        "\r\n",
        "skf = StratifiedKFold(n_splits = 3, shuffle=True)\r\n",
        "\r\n",
        "for train_index, test_index in skf.split(train['Text'], train['label_ft']):\r\n",
        "    train[['Text', 'label_ft']].iloc[train_index].to_csv('fttrain.csv', index=None, header=None)\r\n",
        "    model = fasttext.train_supervised('fttrain.csv', epoch=15, wordNgrams=3, minCount=2, maxn=5, verbose=0)\r\n",
        "    models.append(model)\r\n",
        "\r\n",
        "    train_pred = [model.predict(x)[0][0].split('__')[-1] for x in train.iloc[train_index]['Text']]\r\n",
        "    train_score = f1_score(train['Label'].values[train_index].astype(str), train_pred, average='macro')\r\n",
        "    print('Train score: ', train_score)\r\n",
        "    train_scores.append(train_score)\r\n",
        "\r\n",
        "    val_pred = [model.predict(x)[0][0].split('__')[-1] for x in train.iloc[test_index]['Text']]\r\n",
        "    val_score = f1_score(train['Label'].values[test_index].astype(str), val_pred, average='macro')\r\n",
        "    print('Val score: ', val_score)\r\n",
        "    val_scores.append(val_score)\r\n",
        "\r\n",
        "print('mean train score: ', np.mean(train_scores))\r\n",
        "print('mean val score: ', np.mean(val_scores))"
      ],
      "execution_count": null,
      "outputs": []
    },
    {
      "cell_type": "code",
      "metadata": {
        "colab": {
          "base_uri": "https://localhost:8080/",
          "height": 156
        },
        "id": "QrX92ktk-f2J",
        "outputId": "35f47aa2-13fb-48a5-8581-10a71cd90890"
      },
      "source": [
        "test['Text'].loc[7]"
      ],
      "execution_count": null,
      "outputs": [
        {
          "output_type": "execute_result",
          "data": {
            "application/vnd.google.colaboratory.intrinsic+json": {
              "type": "string"
            },
            "text/plain": [
              "\"See if you sound like me: - Large family with multiple devices that need charging either by Apple cables or Micro USB - Cables are always getting lost, eaten, frayed/broken, lent, or sucked into another dimensionI'm usually on Ebay or Amazon once every 3 months to buy a wholesale pack of micro USB or Apple cables because the 9+ devices we charge at home go through cables like most families go through milk.  Most cables I buy do not stand up to our abuse, and the usual break point is the cable to micro USB head.These cables from Pro Rich seem to be different.  The break point looks to be more reinforced, the cables themselves have some heft and sturdiness to them, and the LENGTH(!) is outstanding.  I would recommend these to anyone who feels like a wholesale dealer of charging cables (or anyone that seems to go through them on a regular basis).\""
            ]
          },
          "metadata": {
            "tags": []
          },
          "execution_count": 23
        }
      ]
    },
    {
      "cell_type": "code",
      "metadata": {
        "colab": {
          "base_uri": "https://localhost:8080/"
        },
        "id": "TxJrAuYtxs6j",
        "outputId": "573ee35d-50e4-4e82-a7b6-98b516596e8d"
      },
      "source": [
        "\r\n",
        "for i in test.index:\r\n",
        "    test_pred = text_clf_model.predict(test['Text'][i], k=1)[0][0]\r\n",
        "    submission['Label'][i] =  test_pred.split('__')[-1]\r\n",
        "\r\n",
        "\r\n",
        "print(submission)"
      ],
      "execution_count": 36,
      "outputs": [
        {
          "output_type": "stream",
          "text": [
            "          id  Label\n",
            "0          0      1\n",
            "1          1      0\n",
            "2          2      0\n",
            "3          3      0\n",
            "4          4      0\n",
            "...      ...    ...\n",
            "83199  83199      0\n",
            "83200  83200      0\n",
            "83201  83201      0\n",
            "83202  83202      0\n",
            "83203  83203      1\n",
            "\n",
            "[83204 rows x 2 columns]\n"
          ],
          "name": "stdout"
        }
      ]
    },
    {
      "cell_type": "code",
      "metadata": {
        "id": "IH8NTe-tCRAR"
      },
      "source": [
        "submission.to_csv('submission1.csv', index=None, header=True)"
      ],
      "execution_count": 37,
      "outputs": []
    },
    {
      "cell_type": "code",
      "metadata": {
        "colab": {
          "base_uri": "https://localhost:8080/"
        },
        "id": "0DyKN5DGCeu2",
        "outputId": "b1790dda-3b61-4298-9ce3-a3c8807dc38d"
      },
      "source": [
        "!kaggle competitions submit -c sejong-ai-challenge-p2 -f submission1.csv -m \"Message\""
      ],
      "execution_count": 38,
      "outputs": [
        {
          "output_type": "stream",
          "text": [
            "Warning: Looks like you're using an outdated API Version, please consider updating (server 1.5.12 / client 1.5.6)\n",
            "100% 639k/639k [00:08<00:00, 77.5kB/s]\n",
            "Successfully submitted to Sejong AI Challenge 문제2"
          ],
          "name": "stdout"
        }
      ]
    },
    {
      "cell_type": "code",
      "metadata": {
        "id": "HkkEf0A7CpVh"
      },
      "source": [
        ""
      ],
      "execution_count": null,
      "outputs": []
    }
  ]
}