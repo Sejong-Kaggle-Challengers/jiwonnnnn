{
  "nbformat": 4,
  "nbformat_minor": 0,
  "metadata": {
    "colab": {
      "name": "ai_challenge_2(fasttext).ipynb",
      "provenance": [],
      "collapsed_sections": []
    },
    "kernelspec": {
      "name": "python3",
      "display_name": "Python 3"
    }
  },
  "cells": [
    {
      "cell_type": "code",
      "metadata": {
        "colab": {
          "base_uri": "https://localhost:8080/"
        },
        "id": "oserWlp1isr3",
        "outputId": "c35dff08-0436-49d9-8343-ff32a9630cf5"
      },
      "source": [
        "!pip uninstall kaggle\r\n",
        "!pip install --upgrade pip\r\n",
        "!pip install kaggle==1.5.6\r\n",
        "!mkdir -p ~/.kaggle\r\n",
        "!cp kaggle.json ~/.kaggle\r\n",
        "!ls -lha kaggle.json\r\n",
        "!chmod 600 ~/.kaggle/kaggle.json"
      ],
      "execution_count": null,
      "outputs": [
        {
          "output_type": "stream",
          "text": [
            "Uninstalling kaggle-1.5.10:\n",
            "  Would remove:\n",
            "    /usr/local/bin/kaggle\n",
            "    /usr/local/lib/python3.7/dist-packages/kaggle-1.5.10.dist-info/*\n",
            "    /usr/local/lib/python3.7/dist-packages/kaggle/*\n",
            "Proceed (y/n)? y\n",
            "  Successfully uninstalled kaggle-1.5.10\n",
            "Collecting pip\n",
            "\u001b[?25l  Downloading https://files.pythonhosted.org/packages/fe/ef/60d7ba03b5c442309ef42e7d69959f73aacccd0d86008362a681c4698e83/pip-21.0.1-py3-none-any.whl (1.5MB)\n",
            "\u001b[K     |████████████████████████████████| 1.5MB 8.0MB/s \n",
            "\u001b[?25hInstalling collected packages: pip\n",
            "  Found existing installation: pip 19.3.1\n",
            "    Uninstalling pip-19.3.1:\n",
            "      Successfully uninstalled pip-19.3.1\n",
            "Successfully installed pip-21.0.1\n",
            "Collecting kaggle==1.5.6\n",
            "  Downloading kaggle-1.5.6.tar.gz (58 kB)\n",
            "\u001b[K     |████████████████████████████████| 58 kB 3.2 MB/s \n",
            "\u001b[?25hRequirement already satisfied: urllib3<1.25,>=1.21.1 in /usr/local/lib/python3.7/dist-packages (from kaggle==1.5.6) (1.24.3)\n",
            "Requirement already satisfied: six>=1.10 in /usr/local/lib/python3.7/dist-packages (from kaggle==1.5.6) (1.15.0)\n",
            "Requirement already satisfied: certifi in /usr/local/lib/python3.7/dist-packages (from kaggle==1.5.6) (2020.12.5)\n",
            "Requirement already satisfied: python-dateutil in /usr/local/lib/python3.7/dist-packages (from kaggle==1.5.6) (2.8.1)\n",
            "Requirement already satisfied: requests in /usr/local/lib/python3.7/dist-packages (from kaggle==1.5.6) (2.23.0)\n",
            "Requirement already satisfied: tqdm in /usr/local/lib/python3.7/dist-packages (from kaggle==1.5.6) (4.41.1)\n",
            "Requirement already satisfied: python-slugify in /usr/local/lib/python3.7/dist-packages (from kaggle==1.5.6) (4.0.1)\n",
            "Requirement already satisfied: text-unidecode>=1.3 in /usr/local/lib/python3.7/dist-packages (from python-slugify->kaggle==1.5.6) (1.3)\n",
            "Requirement already satisfied: chardet<4,>=3.0.2 in /usr/local/lib/python3.7/dist-packages (from requests->kaggle==1.5.6) (3.0.4)\n",
            "Requirement already satisfied: idna<3,>=2.5 in /usr/local/lib/python3.7/dist-packages (from requests->kaggle==1.5.6) (2.10)\n",
            "Building wheels for collected packages: kaggle\n",
            "  Building wheel for kaggle (setup.py) ... \u001b[?25l\u001b[?25hdone\n",
            "  Created wheel for kaggle: filename=kaggle-1.5.6-py3-none-any.whl size=72859 sha256=4852978b4ea8346877a229f2cf0d4964855d30752a67164782cd2061a274c994\n",
            "  Stored in directory: /root/.cache/pip/wheels/aa/e7/e7/eb3c3d514c33294d77ddd5a856bdd58dc9c1fabbed59a02a2b\n",
            "Successfully built kaggle\n",
            "Installing collected packages: kaggle\n",
            "Successfully installed kaggle-1.5.6\n",
            "-rw-r--r-- 1 root root 65 Mar 17 01:12 kaggle.json\n"
          ],
          "name": "stdout"
        }
      ]
    },
    {
      "cell_type": "code",
      "metadata": {
        "colab": {
          "base_uri": "https://localhost:8080/"
        },
        "id": "VTBRa9wwi7wq",
        "outputId": "cbeb3dde-942d-4a6f-c391-d585b5e88e63"
      },
      "source": [
        "!kaggle competitions download -c sejong-ai-challenge-p2"
      ],
      "execution_count": null,
      "outputs": [
        {
          "output_type": "stream",
          "text": [
            "Downloading sejong-ai-challenge-p2.zip to /content\n",
            " 64% 19.0M/29.8M [00:00<00:00, 37.7MB/s]\n",
            "100% 29.8M/29.8M [00:00<00:00, 61.6MB/s]\n"
          ],
          "name": "stdout"
        }
      ]
    },
    {
      "cell_type": "code",
      "metadata": {
        "colab": {
          "base_uri": "https://localhost:8080/"
        },
        "id": "pJcMtmJLi8go",
        "outputId": "3741d381-1d4c-464b-ace6-be57aac499ac"
      },
      "source": [
        "!unzip sejong-ai-challenge-p2.zip"
      ],
      "execution_count": null,
      "outputs": [
        {
          "output_type": "stream",
          "text": [
            "Archive:  sejong-ai-challenge-p2.zip\n",
            "  inflating: sample_submission.csv   \n",
            "  inflating: test.csv                \n",
            "  inflating: train.csv               \n"
          ],
          "name": "stdout"
        }
      ]
    },
    {
      "cell_type": "code",
      "metadata": {
        "id": "_vSekMSvjUOl"
      },
      "source": [
        "import pandas as pd\r\n",
        "import numpy as np\r\n",
        "\r\n",
        "train = pd.read_csv('train.csv')\r\n",
        "\r\n",
        "test = pd.read_csv('test.csv')\r\n",
        "submission = pd.read_csv('sample_submission.csv')\r\n",
        "\r\n"
      ],
      "execution_count": 2,
      "outputs": []
    },
    {
      "cell_type": "code",
      "metadata": {
        "colab": {
          "base_uri": "https://localhost:8080/"
        },
        "id": "F0X-kNaJj5Q3",
        "outputId": "9611ba0c-2b81-4f7d-d2cc-c9fad15ce4c2"
      },
      "source": [
        "print(train.shape)\r\n",
        "print(train['Text'][0])"
      ],
      "execution_count": 9,
      "outputs": [
        {
          "output_type": "stream",
          "text": [
            "(194140, 3)\n",
            "Great price and quick service, the product is a back case with no front protection, but alas thats why I ordered the sleeves for the front. Seems very durable and color is very vibrant.\n"
          ],
          "name": "stdout"
        }
      ]
    },
    {
      "cell_type": "code",
      "metadata": {
        "id": "3oBHgeAkv3Gt",
        "colab": {
          "base_uri": "https://localhost:8080/"
        },
        "outputId": "8e4e59b9-141a-4fb4-be2b-deb6187f1597"
      },
      "source": [
        "train.info()"
      ],
      "execution_count": 4,
      "outputs": [
        {
          "output_type": "stream",
          "text": [
            "<class 'pandas.core.frame.DataFrame'>\n",
            "RangeIndex: 194140 entries, 0 to 194139\n",
            "Data columns (total 3 columns):\n",
            " #   Column      Non-Null Count   Dtype \n",
            "---  ------      --------------   ----- \n",
            " 0   Unnamed: 0  194140 non-null  int64 \n",
            " 1   Text        194139 non-null  object\n",
            " 2   Label       194140 non-null  int64 \n",
            "dtypes: int64(2), object(1)\n",
            "memory usage: 4.4+ MB\n"
          ],
          "name": "stdout"
        }
      ]
    },
    {
      "cell_type": "code",
      "metadata": {
        "colab": {
          "base_uri": "https://localhost:8080/"
        },
        "id": "Z5Yvap73wWyL",
        "outputId": "fb94042c-aec3-4c41-e40c-6710ca7355b6"
      },
      "source": [
        "!pip install fasttext"
      ],
      "execution_count": 8,
      "outputs": [
        {
          "output_type": "stream",
          "text": [
            "Collecting fasttext\n",
            "  Downloading fasttext-0.9.2.tar.gz (68 kB)\n",
            "\u001b[?25l\r\u001b[K     |████▊                           | 10 kB 27.8 MB/s eta 0:00:01\r\u001b[K     |█████████▌                      | 20 kB 33.2 MB/s eta 0:00:01\r\u001b[K     |██████████████▎                 | 30 kB 28.4 MB/s eta 0:00:01\r\u001b[K     |███████████████████             | 40 kB 10.3 MB/s eta 0:00:01\r\u001b[K     |███████████████████████▉        | 51 kB 8.0 MB/s eta 0:00:01\r\u001b[K     |████████████████████████████▋   | 61 kB 9.0 MB/s eta 0:00:01\r\u001b[K     |████████████████████████████████| 68 kB 3.2 MB/s \n",
            "\u001b[?25hCollecting pybind11>=2.2\n",
            "  Using cached pybind11-2.6.2-py2.py3-none-any.whl (191 kB)\n",
            "Requirement already satisfied: setuptools>=0.7.0 in /usr/local/lib/python3.7/dist-packages (from fasttext) (54.0.0)\n",
            "Requirement already satisfied: numpy in /usr/local/lib/python3.7/dist-packages (from fasttext) (1.19.5)\n",
            "Building wheels for collected packages: fasttext\n",
            "  Building wheel for fasttext (setup.py) ... \u001b[?25l\u001b[?25hdone\n",
            "  Created wheel for fasttext: filename=fasttext-0.9.2-cp37-cp37m-linux_x86_64.whl size=3096896 sha256=0c3ba091857be6eae0cb8df9bc953d805d41d438dde0125d17ab1b5f92b7bbe3\n",
            "  Stored in directory: /root/.cache/pip/wheels/4e/ca/bf/b020d2be95f7641801a6597a29c8f4f19e38f9c02a345bab9b\n",
            "Successfully built fasttext\n",
            "Installing collected packages: pybind11, fasttext\n",
            "Successfully installed fasttext-0.9.2 pybind11-2.6.2\n"
          ],
          "name": "stdout"
        }
      ]
    },
    {
      "cell_type": "code",
      "metadata": {
        "id": "9Ewu9-Lij7qE"
      },
      "source": [
        "import fasttext\r\n",
        "\r\n",
        "file = open('fasttexttrain.txt', 'w+')\r\n",
        "for i in train.index:\r\n",
        "    line = '__label__' + str(train['Label'][i]) + ' ' + str(train['Text'][i])\r\n",
        "    file.write(line+'\\n')"
      ],
      "execution_count": 5,
      "outputs": []
    },
    {
      "cell_type": "code",
      "metadata": {
        "id": "4jupCe40wUEI"
      },
      "source": [
        "text_clf_model = fasttext.train_supervised('fasttexttrain.txt', epoch=15, minCount=2, maxn=10, verbose=0)"
      ],
      "execution_count": 7,
      "outputs": []
    },
    {
      "cell_type": "code",
      "metadata": {
        "colab": {
          "base_uri": "https://localhost:8080/"
        },
        "id": "m9o_jOg017zI",
        "outputId": "156d7e42-d15d-4605-d235-8dfd4445495c"
      },
      "source": [
        "result = text_clf_model.predict('Great price and quick service, the product is a back case with no front protection, but alas thats why I ordered the sleeves for the front. Seems very durable and color is very vibrant.', k=1)\r\n",
        "print(result)"
      ],
      "execution_count": 12,
      "outputs": [
        {
          "output_type": "stream",
          "text": [
            "(('__label__1',), array([0.92144179]))\n"
          ],
          "name": "stdout"
        }
      ]
    },
    {
      "cell_type": "code",
      "metadata": {
        "colab": {
          "base_uri": "https://localhost:8080/",
          "height": 156
        },
        "id": "QrX92ktk-f2J",
        "outputId": "35f47aa2-13fb-48a5-8581-10a71cd90890"
      },
      "source": [
        "test['Text'].loc[7]"
      ],
      "execution_count": 23,
      "outputs": [
        {
          "output_type": "execute_result",
          "data": {
            "application/vnd.google.colaboratory.intrinsic+json": {
              "type": "string"
            },
            "text/plain": [
              "\"See if you sound like me: - Large family with multiple devices that need charging either by Apple cables or Micro USB - Cables are always getting lost, eaten, frayed/broken, lent, or sucked into another dimensionI'm usually on Ebay or Amazon once every 3 months to buy a wholesale pack of micro USB or Apple cables because the 9+ devices we charge at home go through cables like most families go through milk.  Most cables I buy do not stand up to our abuse, and the usual break point is the cable to micro USB head.These cables from Pro Rich seem to be different.  The break point looks to be more reinforced, the cables themselves have some heft and sturdiness to them, and the LENGTH(!) is outstanding.  I would recommend these to anyone who feels like a wholesale dealer of charging cables (or anyone that seems to go through them on a regular basis).\""
            ]
          },
          "metadata": {
            "tags": []
          },
          "execution_count": 23
        }
      ]
    },
    {
      "cell_type": "code",
      "metadata": {
        "colab": {
          "base_uri": "https://localhost:8080/"
        },
        "id": "atYTzm0A--Qm",
        "outputId": "5421e2ae-baad-44db-f36d-34050ef3b1e4"
      },
      "source": [
        "for i in test.index:\r\n",
        "    test['Text'][i] =test['Text'][i].replace('\\n', '')"
      ],
      "execution_count": 22,
      "outputs": [
        {
          "output_type": "stream",
          "text": [
            "/usr/local/lib/python3.7/dist-packages/ipykernel_launcher.py:2: SettingWithCopyWarning: \n",
            "A value is trying to be set on a copy of a slice from a DataFrame\n",
            "\n",
            "See the caveats in the documentation: https://pandas.pydata.org/pandas-docs/stable/user_guide/indexing.html#returning-a-view-versus-a-copy\n",
            "  \n"
          ],
          "name": "stderr"
        }
      ]
    },
    {
      "cell_type": "code",
      "metadata": {
        "colab": {
          "base_uri": "https://localhost:8080/"
        },
        "id": "TxJrAuYtxs6j",
        "outputId": "18fd45b1-2938-4b3e-ef04-8f58b3c9ea25"
      },
      "source": [
        "\r\n",
        "for i in test.index:\r\n",
        "    test_pred = text_clf_model.predict(test['Text'][i], k=1)[0][0]\r\n",
        "    submission['Label'][i] =  test_pred.split('__')[-1]\r\n",
        "\r\n",
        "\r\n",
        "print(submission)"
      ],
      "execution_count": 46,
      "outputs": [
        {
          "output_type": "stream",
          "text": [
            "          id  Label\n",
            "0          0      1\n",
            "1          1      0\n",
            "2          2      0\n",
            "3          3      0\n",
            "4          4      0\n",
            "...      ...    ...\n",
            "83199  83199      0\n",
            "83200  83200      0\n",
            "83201  83201      0\n",
            "83202  83202      0\n",
            "83203  83203      1\n",
            "\n",
            "[83204 rows x 2 columns]\n"
          ],
          "name": "stdout"
        }
      ]
    },
    {
      "cell_type": "code",
      "metadata": {
        "id": "IH8NTe-tCRAR"
      },
      "source": [
        "submission.to_csv('submission.csv', index=None, header=True)"
      ],
      "execution_count": 47,
      "outputs": []
    },
    {
      "cell_type": "code",
      "metadata": {
        "id": "0DyKN5DGCeu2",
        "outputId": "fdd7c87f-aefd-4cf1-e1f7-30d5efab6446",
        "colab": {
          "base_uri": "https://localhost:8080/"
        }
      },
      "source": [
        "!kaggle competitions submit -c sejong-ai-challenge-p2 -f submission.csv -m \"Message\""
      ],
      "execution_count": 48,
      "outputs": [
        {
          "output_type": "stream",
          "text": [
            "Warning: Looks like you're using an outdated API Version, please consider updating (server 1.5.12 / client 1.5.6)\n",
            "100% 639k/639k [00:01<00:00, 343kB/s]\n",
            "Successfully submitted to Sejong AI Challenge 문제2"
          ],
          "name": "stdout"
        }
      ]
    },
    {
      "cell_type": "code",
      "metadata": {
        "id": "HkkEf0A7CpVh"
      },
      "source": [
        "## 0.90703"
      ],
      "execution_count": null,
      "outputs": []
    }
  ]
}