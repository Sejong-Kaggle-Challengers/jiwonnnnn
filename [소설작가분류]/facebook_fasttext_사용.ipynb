{
  "nbformat": 4,
  "nbformat_minor": 0,
  "metadata": {
    "colab": {
      "name": "facebook_fasttext 사용해보기.ipynb",
      "provenance": []
    },
    "kernelspec": {
      "name": "python3",
      "display_name": "Python 3"
    }
  },
  "cells": [
    {
      "cell_type": "code",
      "metadata": {
        "colab": {
          "base_uri": "https://localhost:8080/"
        },
        "id": "pvzqNtsXBtzb",
        "outputId": "4c6509ec-e1fd-43c3-952f-ffcb597b5450"
      },
      "source": [
        "!pip install fasttext"
      ],
      "execution_count": 16,
      "outputs": [
        {
          "output_type": "stream",
          "text": [
            "Requirement already satisfied: fasttext in /usr/local/lib/python3.7/dist-packages (0.9.2)\n",
            "Requirement already satisfied: numpy in /usr/local/lib/python3.7/dist-packages (from fasttext) (1.19.5)\n",
            "Requirement already satisfied: pybind11>=2.2 in /usr/local/lib/python3.7/dist-packages (from fasttext) (2.6.2)\n",
            "Requirement already satisfied: setuptools>=0.7.0 in /usr/local/lib/python3.7/dist-packages (from fasttext) (53.0.0)\n"
          ],
          "name": "stdout"
        }
      ]
    },
    {
      "cell_type": "markdown",
      "metadata": {
        "id": "NJhmVWFiGGKO"
      },
      "source": [
        "## fasttext\r\n",
        "\r\n",
        "facebook에서 개발한 라이브러리\r\n",
        "\r\n",
        "word embeddings text Classification 모델을 학습할 수 있음\r\n",
        "\r\n",
        "word embedding을 위해서 뉴럴 네트워크를 사용한다고 함"
      ]
    },
    {
      "cell_type": "code",
      "metadata": {
        "id": "_sle-gKzBL_6"
      },
      "source": [
        "import fasttext\r\n",
        "\r\n",
        "import pandas as pd\r\n",
        "import numpy as np\r\n",
        "\r\n",
        "train = pd.read_csv('/content/drive/MyDrive/소설작가분류/train.csv')\r\n",
        "test = pd.read_csv('/content/drive/MyDrive/소설작가분류/test_x.csv')\r\n",
        "submission = pd.read_csv('/content/drive/MyDrive/소설작가분류/sample_submission.csv')"
      ],
      "execution_count": 17,
      "outputs": []
    },
    {
      "cell_type": "code",
      "metadata": {
        "id": "T4YGOhcbBqEj"
      },
      "source": [
        "file = open('fasttexttrain.txt', 'w+') #w+ 읽기 또는 쓰기 모드, 파일 없으면 새로 만듦\r\n",
        "for i in train.index:\r\n",
        "    line = '__label__' + str(train['author'][i]) + ' ' +train['text'][i]\r\n",
        "    file.write(line+'\\n')"
      ],
      "execution_count": 18,
      "outputs": []
    },
    {
      "cell_type": "code",
      "metadata": {
        "colab": {
          "base_uri": "https://localhost:8080/"
        },
        "id": "bHRndtq8EzbD",
        "outputId": "c784fb5f-fd73-4c0d-d325-f2fb64de6a9e"
      },
      "source": [
        "#pre-trained된 분류기를 로드해서 모델 생성\r\n",
        "text_clf_model = fasttext.train_supervised('fasttexttrain.txt', epoch=30, minCount=2, maxn=10, verbose=0)\r\n",
        "\r\n",
        "result = text_clf_model.predict()"
      ],
      "execution_count": 19,
      "outputs": [
        {
          "output_type": "stream",
          "text": [
            "<fasttext.FastText._FastText object at 0x7fc36e135fd0>\n"
          ],
          "name": "stdout"
        }
      ]
    },
    {
      "cell_type": "code",
      "metadata": {
        "colab": {
          "base_uri": "https://localhost:8080/"
        },
        "id": "2D7-dNrpF2jS",
        "outputId": "b76d328b-cf21-44d1-f85c-2114751a68c8"
      },
      "source": [
        "result = text_clf_model.predict('He was almost choking. There was so much, so much he wanted to say, but strange exclamations were all that came from his lips. The Pole gazed fixedly at him, at the bundle of notes in his hand; looked at odin, and was in evident perplexity.', k=5)\r\n",
        "print(result)\r\n",
        "\r\n",
        "# k==> 분류기로부터 상위 라벨 k개. \r\n",
        "\r\n",
        "# fasttext 분류기의 params.\r\n",
        "\r\n",
        "# Text Classification\r\n",
        "# input             # training file path (required)\r\n",
        "# model             # unsupervised fasttext model {cbow, skipgram} [skipgram]\r\n",
        "# lr                # learning rate [0.05]\r\n",
        "# dim               # size of word vectors [100]\r\n",
        "# ws                # size of the context window [5]\r\n",
        "# epoch             # number of epochs [5]\r\n",
        "# minCount          # minimal number of word occurences [5]\r\n",
        "# minn              # min length of char ngram [3]\r\n",
        "# maxn              # max length of char ngram [6]\r\n",
        "# neg               # number of negatives sampled [5]\r\n",
        "# wordNgrams        # max length of word ngram [1]\r\n",
        "# loss              # loss function {ns, hs, softmax, ova} [ns]\r\n",
        "# bucket            # number of buckets [2000000]\r\n",
        "# thread            # number of threads [number of cpus]\r\n",
        "# lrUpdateRate      # change the rate of updates for the learning rate [100]\r\n",
        "# t                 # sampling threshold [0.0001]\r\n",
        "# verbose           # verbose [2]"
      ],
      "execution_count": 21,
      "outputs": [
        {
          "output_type": "stream",
          "text": [
            "(('__label__3', '__label__0', '__label__2'), array([9.97198641e-01, 1.46512245e-03, 8.68424831e-04]))\n"
          ],
          "name": "stdout"
        }
      ]
    },
    {
      "cell_type": "code",
      "metadata": {
        "id": "dKumqpIadGC9"
      },
      "source": [
        "for i in test.index:\r\n",
        "    label, proba = text_clf_model.predict(test['text'][i], k=5)\r\n",
        "    for la, pr in zip(label, proba):\r\n",
        "        if '__label__0' == la:\r\n",
        "            submission.loc[i,'0'] = pr\r\n",
        "        elif '__label__1' == la:\r\n",
        "            submission.loc[i, '1'] = pr\r\n",
        "        elif '__label__2' == la:\r\n",
        "            submission.loc[i, '2'] = pr\r\n",
        "        elif '__label__3' == la:\r\n",
        "            submission.loc[i, '3'] = pr\r\n",
        "        elif '__label__4' == la:\r\n",
        "            submission.loc[i, '4'] = pr"
      ],
      "execution_count": 23,
      "outputs": []
    },
    {
      "cell_type": "code",
      "metadata": {
        "colab": {
          "base_uri": "https://localhost:8080/",
          "height": 419
        },
        "id": "8wSc7CcEeRC0",
        "outputId": "aa1316df-963b-4386-f99d-9a77b66a4785"
      },
      "source": [
        "submission"
      ],
      "execution_count": 24,
      "outputs": [
        {
          "output_type": "execute_result",
          "data": {
            "text/html": [
              "<div>\n",
              "<style scoped>\n",
              "    .dataframe tbody tr th:only-of-type {\n",
              "        vertical-align: middle;\n",
              "    }\n",
              "\n",
              "    .dataframe tbody tr th {\n",
              "        vertical-align: top;\n",
              "    }\n",
              "\n",
              "    .dataframe thead th {\n",
              "        text-align: right;\n",
              "    }\n",
              "</style>\n",
              "<table border=\"1\" class=\"dataframe\">\n",
              "  <thead>\n",
              "    <tr style=\"text-align: right;\">\n",
              "      <th></th>\n",
              "      <th>index</th>\n",
              "      <th>0</th>\n",
              "      <th>1</th>\n",
              "      <th>2</th>\n",
              "      <th>3</th>\n",
              "      <th>4</th>\n",
              "    </tr>\n",
              "  </thead>\n",
              "  <tbody>\n",
              "    <tr>\n",
              "      <th>0</th>\n",
              "      <td>0</td>\n",
              "      <td>0.025707</td>\n",
              "      <td>0.441581</td>\n",
              "      <td>0.323085</td>\n",
              "      <td>0.206897</td>\n",
              "      <td>0.002780</td>\n",
              "    </tr>\n",
              "    <tr>\n",
              "      <th>1</th>\n",
              "      <td>1</td>\n",
              "      <td>0.112356</td>\n",
              "      <td>0.837495</td>\n",
              "      <td>0.001129</td>\n",
              "      <td>0.014095</td>\n",
              "      <td>0.034975</td>\n",
              "    </tr>\n",
              "    <tr>\n",
              "      <th>2</th>\n",
              "      <td>2</td>\n",
              "      <td>0.890749</td>\n",
              "      <td>0.055735</td>\n",
              "      <td>0.011897</td>\n",
              "      <td>0.021887</td>\n",
              "      <td>0.019781</td>\n",
              "    </tr>\n",
              "    <tr>\n",
              "      <th>3</th>\n",
              "      <td>3</td>\n",
              "      <td>0.023307</td>\n",
              "      <td>0.000837</td>\n",
              "      <td>0.925364</td>\n",
              "      <td>0.002232</td>\n",
              "      <td>0.048310</td>\n",
              "    </tr>\n",
              "    <tr>\n",
              "      <th>4</th>\n",
              "      <td>4</td>\n",
              "      <td>0.659009</td>\n",
              "      <td>0.102127</td>\n",
              "      <td>0.032219</td>\n",
              "      <td>0.177349</td>\n",
              "      <td>0.029346</td>\n",
              "    </tr>\n",
              "    <tr>\n",
              "      <th>...</th>\n",
              "      <td>...</td>\n",
              "      <td>...</td>\n",
              "      <td>...</td>\n",
              "      <td>...</td>\n",
              "      <td>...</td>\n",
              "      <td>...</td>\n",
              "    </tr>\n",
              "    <tr>\n",
              "      <th>19612</th>\n",
              "      <td>19612</td>\n",
              "      <td>0.022107</td>\n",
              "      <td>0.974342</td>\n",
              "      <td>0.000387</td>\n",
              "      <td>0.002294</td>\n",
              "      <td>0.000920</td>\n",
              "    </tr>\n",
              "    <tr>\n",
              "      <th>19613</th>\n",
              "      <td>19613</td>\n",
              "      <td>0.302090</td>\n",
              "      <td>0.009734</td>\n",
              "      <td>0.049494</td>\n",
              "      <td>0.013629</td>\n",
              "      <td>0.625102</td>\n",
              "    </tr>\n",
              "    <tr>\n",
              "      <th>19614</th>\n",
              "      <td>19614</td>\n",
              "      <td>0.017620</td>\n",
              "      <td>0.975687</td>\n",
              "      <td>0.000294</td>\n",
              "      <td>0.006073</td>\n",
              "      <td>0.000376</td>\n",
              "    </tr>\n",
              "    <tr>\n",
              "      <th>19615</th>\n",
              "      <td>19615</td>\n",
              "      <td>0.014061</td>\n",
              "      <td>0.923946</td>\n",
              "      <td>0.048835</td>\n",
              "      <td>0.010064</td>\n",
              "      <td>0.003144</td>\n",
              "    </tr>\n",
              "    <tr>\n",
              "      <th>19616</th>\n",
              "      <td>19616</td>\n",
              "      <td>0.584253</td>\n",
              "      <td>0.008750</td>\n",
              "      <td>0.111842</td>\n",
              "      <td>0.220809</td>\n",
              "      <td>0.074397</td>\n",
              "    </tr>\n",
              "  </tbody>\n",
              "</table>\n",
              "<p>19617 rows × 6 columns</p>\n",
              "</div>"
            ],
            "text/plain": [
              "       index         0         1         2         3         4\n",
              "0          0  0.025707  0.441581  0.323085  0.206897  0.002780\n",
              "1          1  0.112356  0.837495  0.001129  0.014095  0.034975\n",
              "2          2  0.890749  0.055735  0.011897  0.021887  0.019781\n",
              "3          3  0.023307  0.000837  0.925364  0.002232  0.048310\n",
              "4          4  0.659009  0.102127  0.032219  0.177349  0.029346\n",
              "...      ...       ...       ...       ...       ...       ...\n",
              "19612  19612  0.022107  0.974342  0.000387  0.002294  0.000920\n",
              "19613  19613  0.302090  0.009734  0.049494  0.013629  0.625102\n",
              "19614  19614  0.017620  0.975687  0.000294  0.006073  0.000376\n",
              "19615  19615  0.014061  0.923946  0.048835  0.010064  0.003144\n",
              "19616  19616  0.584253  0.008750  0.111842  0.220809  0.074397\n",
              "\n",
              "[19617 rows x 6 columns]"
            ]
          },
          "metadata": {
            "tags": []
          },
          "execution_count": 24
        }
      ]
    },
    {
      "cell_type": "code",
      "metadata": {
        "id": "8CPDXC7Ze75Y"
      },
      "source": [
        "submission.to_csv('result_fasttext.csv', index=False)\r\n"
      ],
      "execution_count": 26,
      "outputs": []
    },
    {
      "cell_type": "code",
      "metadata": {
        "id": "1kw7rMtSfATh"
      },
      "source": [
        ""
      ],
      "execution_count": null,
      "outputs": []
    }
  ]
}
